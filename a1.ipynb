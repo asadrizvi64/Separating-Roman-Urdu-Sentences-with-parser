{
 "cells": [
  {
   "cell_type": "markdown",
   "metadata": {
    "colab_type": "text",
    "id": "11_QtarKSjPf"
   },
   "source": [
    "### Natural Language Processing: Assignment 1"
   ]
  },
  {
   "cell_type": "markdown",
   "metadata": {
    "colab_type": "text",
    "id": "0S_p54xNSTq_"
   },
   "source": [
    "##### This is demo program which give you idea about how to start  your assignment."
   ]
  },
  {
   "cell_type": "code",
   "execution_count": 1,
   "metadata": {
    "colab": {},
    "colab_type": "code",
    "id": "vIhS278lWQOv"
   },
   "outputs": [],
   "source": [
    "## for installing UrduHack\n",
    "#pip install urduhack[tf]"
   ]
  },
  {
   "cell_type": "markdown",
   "metadata": {
    "colab_type": "text",
    "id": "XChiPrRsSwjz"
   },
   "source": [
    "##### Reading File"
   ]
  },
  {
   "cell_type": "code",
   "execution_count": 3,
   "metadata": {
    "colab": {},
    "colab_type": "code",
    "id": "lxjaBCgOWYKt"
   },
   "outputs": [
    {
     "name": "stdout",
     "output_type": "stream",
     "text": [
      "عقل خان کے مطابق اس خوبصورت چراگاہ کو کنڈیل شئی بانال کہا جاتا ہے کنڈیل شئی بانال کے اس خوبصورت میدان کو اگر سویٹزرلینڈ کے کسی ہرے بھرے میدانی علاقے سے تشبیہہ دی جائے تو کچھ غلط نہیں ہوگا میدان میں داخل ہوتے ہی کچھ دیر آرام کرنے کی میری خواہش پر سب نے لبیک کہا ایسا لگا جیسے ان کی دل کی بات میرے لبوں سے ادا ہوئی ہو۔\n"
     ]
    }
   ],
   "source": [
    "import csv\n",
    "\n",
    "with open('sent-test.txt', 'rt', encoding=\"utf-8\") as f:\n",
    "    reader = csv.reader(f)\n",
    "    passage = list(reader)\n",
    "f.close()\n",
    "text = passage[0][0]\n",
    "print(text)"
   ]
  },
  {
   "cell_type": "markdown",
   "metadata": {},
   "source": [
    "##### Segmentation using UrduHack"
   ]
  },
  {
   "cell_type": "code",
   "execution_count": 4,
   "metadata": {},
   "outputs": [
    {
     "data": {
      "text/plain": [
       "['عقل خان کے مطابق اس خوبصورت چراگاہ کو کنڈیل شئی بانال کہا جاتا ہے۔',\n",
       " 'کنڈیل شئی بانال کے اس خوبصورت میدان کو اگر سویٹزرلینڈ کے کسی ہرے بھرے میدانی علاقے سے تشبیہہ دی جائے تو کچھ غلط نہیں ہوگا میدان میں داخل ہوتے ہی کچھ دیر آرام کرنے کی میری خواہش پر سب نے لبیک کہا ایسا لگا جیسے ان کی دل کی بات میرے لبوں سے ادا ہوئی ہو۔']"
      ]
     },
     "execution_count": 4,
     "metadata": {},
     "output_type": "execute_result"
    }
   ],
   "source": [
    "import urduhack\n",
    "from urduhack.tokenization import sentence_tokenizer\n",
    "\n",
    "sentences = sentence_tokenizer(text)\n",
    "sentences"
   ]
  },
  {
   "cell_type": "code",
   "execution_count": 5,
   "metadata": {},
   "outputs": [
    {
     "data": {
      "text/plain": [
       "2"
      ]
     },
     "execution_count": 5,
     "metadata": {},
     "output_type": "execute_result"
    }
   ],
   "source": [
    "len(sentences) "
   ]
  },
  {
   "cell_type": "markdown",
   "metadata": {
    "colab_type": "text",
    "id": "_gaElHuGS4Qb"
   },
   "source": [
    "#### Reading Segmented File"
   ]
  },
  {
   "cell_type": "code",
   "execution_count": 6,
   "metadata": {
    "colab": {},
    "colab_type": "code",
    "id": "gnPi90zhegAM"
   },
   "outputs": [],
   "source": [
    "with open('sent-segmented.txt', 'rt', encoding=\"utf-8\") as f:\n",
    "    reader = csv.reader(f)\n",
    "    segmented = list(reader)\n",
    "f.close()"
   ]
  },
  {
   "cell_type": "code",
   "execution_count": 7,
   "metadata": {},
   "outputs": [
    {
     "data": {
      "text/plain": [
       "5"
      ]
     },
     "execution_count": 7,
     "metadata": {},
     "output_type": "execute_result"
    }
   ],
   "source": [
    "seg_text = segmented[0][0]\n",
    "sents = seg_text.split('۔')\n",
    "len(sents)"
   ]
  },
  {
   "cell_type": "code",
   "execution_count": 8,
   "metadata": {},
   "outputs": [],
   "source": [
    "w_list = word_tokenizer(seg_text)"
   ]
  },
  {
   "cell_type": "code",
   "execution_count": 9,
   "metadata": {},
   "outputs": [
    {
     "data": {
      "text/plain": [
       "['عقل',\n",
       " 'خان',\n",
       " 'کے',\n",
       " 'مطابق',\n",
       " 'اس',\n",
       " 'خوبصورت',\n",
       " 'چراگاہ',\n",
       " 'کو',\n",
       " 'کنڈیل',\n",
       " 'شئیبانال',\n",
       " 'کہا',\n",
       " 'جاتا',\n",
       " 'ہے۔',\n",
       " 'کنڈیل',\n",
       " 'شئی',\n",
       " 'بانال',\n",
       " 'کے',\n",
       " 'اس',\n",
       " 'خوبصورت',\n",
       " 'میدان',\n",
       " 'کو',\n",
       " 'اگر',\n",
       " 'سویٹزرلینڈ',\n",
       " 'کے',\n",
       " 'کسی',\n",
       " 'ہرے',\n",
       " 'بھرے',\n",
       " 'میدانی',\n",
       " 'علاقے',\n",
       " 'سے',\n",
       " 'تشبیہہ',\n",
       " 'دی',\n",
       " 'جائے',\n",
       " 'تو',\n",
       " 'کچھ',\n",
       " 'غلط',\n",
       " 'نہیں',\n",
       " 'ہو',\n",
       " 'گا۔میدان',\n",
       " 'میں',\n",
       " 'داخل',\n",
       " 'ہوتے',\n",
       " 'ہی',\n",
       " 'کچھ',\n",
       " 'دیر',\n",
       " 'آرام',\n",
       " 'کرنے',\n",
       " 'کی',\n",
       " 'میری',\n",
       " 'خواہش',\n",
       " 'پر',\n",
       " 'سب',\n",
       " 'نے',\n",
       " 'لبیک',\n",
       " 'کہا۔',\n",
       " 'ایسا',\n",
       " 'لگا',\n",
       " 'جیسے',\n",
       " 'ان',\n",
       " 'کی',\n",
       " 'دل',\n",
       " 'کی',\n",
       " 'بات',\n",
       " 'میرے',\n",
       " 'لبوں',\n",
       " 'سے',\n",
       " 'ادا',\n",
       " 'ہوئی',\n",
       " 'ہو۔']"
      ]
     },
     "execution_count": 9,
     "metadata": {},
     "output_type": "execute_result"
    }
   ],
   "source": [
    "w_list[0]"
   ]
  },
  {
   "cell_type": "markdown",
   "metadata": {},
   "source": [
    "##### Your Sentence Segmentation Code"
   ]
  },
  {
   "cell_type": "code",
   "execution_count": null,
   "metadata": {},
   "outputs": [],
   "source": []
  },
  {
   "cell_type": "markdown",
   "metadata": {
    "colab_type": "text",
    "id": "YZ83jAJ3S-uR"
   },
   "source": [
    "#### Compute Accuracy and Print Results"
   ]
  },
  {
   "cell_type": "code",
   "execution_count": null,
   "metadata": {
    "colab": {
     "base_uri": "https://localhost:8080/",
     "height": 33
    },
    "colab_type": "code",
    "id": "OyFZPRIGlWNy",
    "outputId": "ca1debd5-4bd9-4202-c6bc-3bca33ad4400"
   },
   "outputs": [],
   "source": []
  }
 ],
 "metadata": {
  "colab": {
   "collapsed_sections": [],
   "name": "NLP 1.ipynb",
   "provenance": [],
   "toc_visible": true
  },
  "kernelspec": {
   "display_name": "Python 3 (ipykernel)",
   "language": "python",
   "name": "python3"
  },
  "language_info": {
   "codemirror_mode": {
    "name": "ipython",
    "version": 3
   },
   "file_extension": ".py",
   "mimetype": "text/x-python",
   "name": "python",
   "nbconvert_exporter": "python",
   "pygments_lexer": "ipython3",
   "version": "3.9.7"
  }
 },
 "nbformat": 4,
 "nbformat_minor": 1
}
